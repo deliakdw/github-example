{
    "cells": [
        {
            "cell_type": "markdown",
            "metadata": {
                "collapsed": true
            },
            "source": "# The Battle of Neighborhoods (Week 1)"
        },
        {
            "cell_type": "markdown",
            "metadata": {},
            "source": "## Introduction and Business Problems"
        },
        {
            "cell_type": "markdown",
            "metadata": {},
            "source": "### Problem Introduction and Description\n\nThe business problem I will be solving is: \n#### If someone is trying to open a new restaurant in New York City, where would I recommend that they open it? \n\nOne of the most difficult things to consider when starting a new business is location. Take into account the characteristics of the demographic of the surrounding area would benefit one in making a sound decision. However, New York City has already have many types of restaurants. The market is highly competitive and the city is highly developed. The cost associated with opening a new restaurant would be among the highest of all the cities around the world. If the location is strategically selected, the business would be blooming since New York City is a hub of business and commerce. \n\n### Problem Background\nI will be using the geographical data of current businesses derived from Foursquare to determine the best location to open a new restaurant in New York City:\n1. New York City Demographics\n2. Segmentation of the boroughs\n3. Untapped market\n4. Saturated market\n5. Types of restaurant and competitors around the location\n\nA good recommendation of a new location would be based on suppliers of ingredients and lack of competitor in selected location. \n\n### Data Description\nThe main data I will be using to analysis New York City would be as followed and I will use Foursquare API to analysis New York City: \n\nThere are 5 boroughs and 306 neighborhoods in New York City. I will use a dataset that contains the 5 boroughs and the neighborhoods that exist in each borough as well as the latitude and longitude coordinates of each neighborhood. The dataset is: https://geo.nyu.edu/catalog/nyu_2451_34572\n\nNew York City Population and demographics:\n* https://en.wikipedia.org/wiki/New_York_City\n* https://en.wikipedia.org/wiki/Economy_of_New_York_City\n* https://en.wikipedia.org/wiki/Portal:New_York_City\n\nNew York City's Cuisines: \n* https://en.wikipedia.org/wiki/Cuisine_of_New_York_City\n* https://en.wikipedia.org/wiki/List_of_Michelin_starred_restaurants_in_New_York_City"
        },
        {
            "cell_type": "code",
            "execution_count": null,
            "metadata": {},
            "outputs": [],
            "source": ""
        }
    ],
    "metadata": {
        "kernelspec": {
            "display_name": "Python 3.6",
            "language": "python",
            "name": "python3"
        },
        "language_info": {
            "codemirror_mode": {
                "name": "ipython",
                "version": 3
            },
            "file_extension": ".py",
            "mimetype": "text/x-python",
            "name": "python",
            "nbconvert_exporter": "python",
            "pygments_lexer": "ipython3",
            "version": "3.6.9"
        }
    },
    "nbformat": 4,
    "nbformat_minor": 1
}